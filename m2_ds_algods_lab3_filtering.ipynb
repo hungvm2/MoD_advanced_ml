{
 "cells": [
  {
   "cell_type": "markdown",
   "metadata": {
    "id": "OpOHLyhPpaxC"
   },
   "source": [
    "# Algorithms for Data Science"
   ]
  },
  {
   "cell_type": "markdown",
   "metadata": {
    "id": "NvZ7rLY2pg8i"
   },
   "source": [
    "## Filtering Stream Items"
   ]
  },
  {
   "cell_type": "markdown",
   "metadata": {
    "id": "NqIyJ2BgplVA"
   },
   "source": [
    "### 1. Preliminaries \n",
    "\n",
    "The objective of this lab is to implement algorithms for filtering \"good\" items on streams. We will start by the simple implementation using only one hash function, and then it will be required of you to implement the full Bloom filter. We assume a random stream $S$ of $m$ email strings. We assume that the first $g$ emails are the good ones, that we have $n$ bits allocated in the bit array $B$ (for simplicity, implemented as an array here)."
   ]
  },
  {
   "cell_type": "code",
   "execution_count": 1,
   "metadata": {
    "id": "uj1GxrPF_DxQ"
   },
   "outputs": [
    {
     "name": "stdout",
     "output_type": "stream",
     "text": [
      "['azkxi@oaqga', 'aqlji@yzyxu', 'hacch@irrml', 'geyrj@pngnt', 'hewod@qvipd', 'aakdk@footu', 'kkovw@khpzj', 'ckrfy@qrirg', 'rwyak@pmdpc', 'buhso@htjgc', 'tvros@kivrb', 'snfmr@txdvp', 'bvkqe@rdckp', 'vgowp@cagjv', 'rxpeo@pwwte', 'dmneo@cxydd', 'vtlec@fvpaj', 'egfqx@bpflc', 'volvp@erisq', 'kxcvn@digjk', 'warom@bbzco', 'jnzni@zqaqe', 'cxipd@hwrky', 'vjykv@yretw', 'hlxhw@unvoi', 'ypouh@jgzrg', 'kyvum@zmmpq', 'njfnr@jfqcc', 'pqpdt@otfkz', 'lmsca@vfvkx', 'icsba@xmdup', 'julud@bnhfd', 'zyvlx@wdlhm', 'iihtj@rljuz', 'cjibv@tzyer', 'xavpo@tlhfa', 'jzhrv@atxms', 'rmktg@yoneb', 'husvu@vbkjx', 'uonxo@ioezx', 'whpte@gxtoy', 'saabb@hgkjp', 'ubmtf@zvuzz', 'movkq@sksjd', 'iujdw@ywzho', 'vzase@lwvsh', 'hhpqv@prmws', 'ssefn@ivmgy', 'jaulj@mpudd', 'kwanf@xtcpi', 'vlrmq@tbwka', 'fzuci@aezea', 'myioh@mfgqm', 'hfspu@iikgm', 'myefo@nsgmc', 'vrdjv@ksotf', 'udawh@emacs', 'blmtk@idnwq', 'dkpnm@ewbmf', 'oqkab@efaxr', 'nihcs@xlqfm', 'qjwtj@dfsds', 'jiydq@ljvwh', 'fodrq@tbglg', 'ysyuk@xhrnl', 'zwxgo@tajmf', 'hulkr@ghwkv', 'exidi@mbmvl', 'cesxv@gxgpo', 'ypehe@erufe', 'lycue@qiqlw', 'rllde@kquhb', 'wlcmf@wurrn', 'uvavv@clnwh', 'cghut@bdimg', 'xsmhm@pzeap', 'micky@rlksp', 'kdksw@bivmv', 'wbnte@hvieu', 'iomjc@ggscu', 'uisse@akzxi', 'rhmpw@ykwlj', 'rvbfi@flcrx', 'tngxv@hiiik', 'unzsd@apbjf', 'tndkr@imrcd', 'ncvrg@ukigv', 'tgwjf@frxgd', 'wyxdh@tawzm', 'qymxp@fvkyw', 'cerzh@gnqgy', 'pcvmj@amckf', 'kigqz@mqkyk', 'hjvgr@qmvqp', 'tubsa@pkvma', 'zagdv@vvpym', 'shwnc@fvulu', 'hutoz@jyvxc', 'exinn@aliyq', 'ectqt@segnx']\n"
     ]
    }
   ],
   "source": [
    "import random\n",
    "from string import ascii_lowercase\n",
    "\n",
    "#parameters\n",
    "m = 100\n",
    "g = 10\n",
    "stream_size = 10000\n",
    "n = 512\n",
    "\n",
    "#generate some random strings of size 5 + 1 + 5\n",
    "D = []\n",
    "for _ in range(m):\n",
    "  D.append(''.join(random.choice(ascii_lowercase) for i in range(5))+\\\n",
    "           '@'+''.join(random.choice(ascii_lowercase) for i in range(5)))\n",
    "\n",
    "print(D)"
   ]
  },
  {
   "cell_type": "markdown",
   "metadata": {
    "id": "GgKzrJj3_oiX"
   },
   "source": [
    "### 2. Creating a Hash Function, Filtering Items Using a Single Hash\n",
    "\n",
    "In the following we create a hash function $h(x)$, which also takes as a parameter a value and $n$, and returns a value in $0\\dots n-1$. We populate the byte array $B$, and then we simulate a stream taking random values from $D$ and checking whether the value is good or not. We measure the true positive, false positive, and false negative rates. "
   ]
  },
  {
   "cell_type": "code",
   "execution_count": 2,
   "metadata": {
    "colab": {
     "base_uri": "https://localhost:8080/",
     "height": 35
    },
    "id": "IbQ0B1a3BpAV",
    "outputId": "0ee899b2-b9d8-4a43-8dce-ecf772cfc42a"
   },
   "outputs": [
    {
     "name": "stdout",
     "output_type": "stream",
     "text": [
      "[0, 0, 0, 0, 0, 0, 0, 0, 0, 0, 0, 0, 0, 0, 0, 0, 0, 0, 0, 0, 0, 0, 0, 1, 0, 0, 0, 0, 0, 0, 0, 0, 0, 0, 0, 0, 0, 1, 0, 1, 0, 0, 0, 1, 0, 0, 1, 0, 0, 0, 0, 0, 0, 0, 0, 0, 0, 0, 0, 0, 1, 0, 0, 0, 0, 0, 0, 0, 0, 0, 0, 0, 0, 0, 1, 0, 0, 0, 0, 0, 0, 1, 1, 0, 0, 0, 0, 0, 0, 0, 0, 0, 0, 0, 0, 0, 0, 0, 0, 0, 0, 0, 0, 0, 0, 0, 0, 0, 0, 0, 0, 0, 0, 0, 0, 0, 0, 0, 0, 0, 1, 0, 0, 0, 0, 0, 0, 0]\n",
      "False positive rate: 0.089446\n"
     ]
    }
   ],
   "source": [
    "n = 128\n",
    "\n",
    "#hash function\n",
    "def h(x,n):\n",
    "  return hash(x)%n\n",
    "\n",
    "good_set = set(D[:g]) #just for checking TP and FP rates\n",
    "\n",
    "#allocate the array of 0s\n",
    "B = [0] * n\n",
    "\n",
    "#fill the byte array\n",
    "for i in range(g): B[h(D[i],n)] = 1\n",
    "    \n",
    "print(B)\n",
    "\n",
    "tp = 0 # good items passing\n",
    "fp = 0 # bad items passing\n",
    "tn = 0 # bad items discarded\n",
    "fn = 0 # good items discarded\n",
    "\n",
    "#simulate a stream\n",
    "for _ in range(stream_size):\n",
    "  #take a random email\n",
    "  s = random.choice(D)\n",
    "  #check its hash value\n",
    "  if B[h(s,n)]==1: #good\n",
    "    if s not in good_set:\n",
    "      fp += 1\n",
    "    else:\n",
    "      tp += 1\n",
    "  else: #bad \n",
    "    if s in good_set:\n",
    "      fn += 1\n",
    "    else:\n",
    "      tn += 1\n",
    "\n",
    "print('False positive rate: %f'%(float(fp)/float(tn+fp)))"
   ]
  },
  {
   "cell_type": "markdown",
   "metadata": {
    "id": "poLqQQeBanUH"
   },
   "source": [
    "We may want to create a random hash function that can also be pairwise independent when we will need to generate $k$ independent pairwise hashes.\n",
    "The following procedure can be implemented:\n",
    "* choose a large prime number $p$\n",
    "* generate two random numbers $a$ and $b$ in the range $\\{1,\\dots,p\\}$\n",
    "* the hash is then $h_{a,b}(x)=ax+b \\mod p$\n",
    "* we can also restrict it into $\\{0,\\dots,n-1\\}$"
   ]
  },
  {
   "cell_type": "code",
   "execution_count": 3,
   "metadata": {
    "colab": {
     "base_uri": "https://localhost:8080/",
     "height": 55
    },
    "id": "muzsN80wa3gY",
    "outputId": "addce3d3-7228-4c61-9402-c2ebc55f0075"
   },
   "outputs": [
    {
     "name": "stdout",
     "output_type": "stream",
     "text": [
      "[0, 0, 0, 0, 0, 0, 0, 0, 0, 0, 0, 0, 1, 0, 0, 0, 0, 0, 0, 0, 0, 1, 0, 0, 0, 0, 0, 0, 1, 0, 1, 0, 0, 0, 0, 0, 0, 0, 0, 0, 0, 0, 0, 0, 0, 0, 0, 0, 0, 0, 0, 0, 1, 0, 0, 0, 0, 0, 0, 0, 0, 0, 0, 0, 0, 0, 0, 0, 0, 0, 0, 0, 1, 0, 0, 0, 0, 0, 0, 0, 0, 0, 0, 0, 0, 0, 0, 1, 0, 0, 0, 0, 0, 0, 0, 0, 0, 0, 0, 1, 0, 0, 0, 0, 0, 0, 1, 1, 0, 0, 0, 0, 0, 0, 0, 0, 0, 0, 0, 0, 0, 0, 0, 0, 0, 0, 0, 0]\n"
     ]
    }
   ],
   "source": [
    "p = 1223543677\n",
    "\n",
    "a = random.randrange(p)\n",
    "b = random.randrange(p)\n",
    "\n",
    "def h(x,a,b,p,n):\n",
    "  return ((a*hash(x)+b)%p)%n\n",
    "#remark: here we use hash(x) instead of the values to allow for all hashable python types\n",
    "#   e.g., strings, tuples\n",
    "\n",
    "#reinitialize the array, for testing\n",
    "B = [0] * n\n",
    "\n",
    "for i in range(g): \n",
    "  B[h(D[i],a,b,p,n)] = 1\n",
    "\n",
    "print(B)"
   ]
  },
  {
   "cell_type": "markdown",
   "metadata": {
    "id": "Dz9rNT2Na35t"
   },
   "source": [
    "### 3. **TASK** - Bloom Filters\n",
    "\n",
    "Your task is to implement the Bloom filters as described in the class lecture. For this, you have to:\n",
    "1. generate $k$ random pairwise independent hash functions (_hint_: use the example shown above)\n",
    "2. initialize $B$, by setting $1$ in each $h_i(x)$, $i\\in\\{1,\\dots,k\\}$, for all items $x$ in the good set\n",
    "3. an item $s$ in the stream is considered good if, for all $i\\in\\{1,\\dots,k\\}$, we have $B[h_i(s)]=1$\n",
    "\n",
    "Measure the true positive and false positive rate for various values of $k$ and compare to the values obtained when setting $k=n/m\\ln 2$ (to the nearest integer value). What do you notice?\n",
    "\n",
    "Rates:\n",
    "\n",
    "$\n",
    "  \\text{false positive rate} \\frac{FP}{FP+TN}\n",
    "$\n",
    "\n",
    "$\n",
    "  \\text{true positive rate} \\frac{TP}{TP+FN}\n",
    "$"
   ]
  },
  {
   "cell_type": "code",
   "execution_count": 5,
   "metadata": {
    "id": "3Va-_6fda-jf"
   },
   "outputs": [
    {
     "name": "stdout",
     "output_type": "stream",
     "text": [
      "[1, 0, 0, 0, 0, 0, 0, 0, 0, 0, 0, 1, 1, 1, 0, 0, 0, 0, 0, 1, 0, 0, 1, 0, 0, 0, 0, 0, 1, 0, 0, 1, 0, 0, 0, 0, 0, 1, 0, 0, 0, 0, 0, 0, 0, 0, 0, 0, 0, 0, 0, 0, 0, 0, 0, 0, 0, 0, 0, 0, 0, 0, 0, 0, 0, 0, 0, 1, 0, 0, 0, 0, 0, 0, 0, 0, 0, 0, 0, 0, 0, 0, 0, 0, 1, 1, 0, 0, 0, 1, 1, 0, 0, 0, 0, 0, 0, 1, 0, 0, 0, 0, 0, 0, 0, 1, 0, 0, 0, 0, 0, 0, 0, 0, 0, 0, 0, 0, 0, 0, 1, 0, 1, 1, 0, 1, 0, 0]\n"
     ]
    }
   ],
   "source": [
    "# YOUR CODE HERE\n",
    "n = 128\n",
    "\n",
    "good_set = set(D[:g]) #just for checking TP and FP rates\n",
    "\n",
    "p = 1223543677\n",
    "\n",
    "ab_pairs = list()\n",
    "k = 2\n",
    "\n",
    "def generate_ab_pair():\n",
    "    for i in range(k):\n",
    "        a = random.randrange(p)\n",
    "        b = random.randrange(p)\n",
    "        ab_pairs.append((a,b))\n",
    "\n",
    "generate_ab_pair()\n",
    "\n",
    "def h(x,a,b,p,n):\n",
    "  return ((a*hash(x)+b)%p)%n\n",
    "#remark: here we use hash(x) instead of the values to allow for all hashable python types\n",
    "#   e.g., strings, tuples\n",
    "\n",
    "\n",
    "#allocate the array of 0s\n",
    "B = [0] * n\n",
    "\n",
    "#fill the byte array\n",
    "for i in range(g): \n",
    "    for a,b in ab_pairs:\n",
    "        B[h(D[i],a,b, p, n)] = 1\n",
    "    \n",
    "print(B)"
   ]
  },
  {
   "cell_type": "code",
   "execution_count": 6,
   "metadata": {},
   "outputs": [
    {
     "name": "stdout",
     "output_type": "stream",
     "text": [
      "False positive rate: 0.032620\n"
     ]
    }
   ],
   "source": [
    "tp = 0 # good items passing\n",
    "fp = 0 # bad items passing\n",
    "tn = 0 # bad items discarded\n",
    "fn = 0 # good items discarded\n",
    "\n",
    "#simulate a stream\n",
    "for _ in range(stream_size):\n",
    "    #take a random email\n",
    "    s = random.choice(D)\n",
    "    #check its hash value\n",
    "    \n",
    "    count = 0\n",
    "    for a,b in ab_pairs:\n",
    "        if B[h(s,a,b,p,n)]==1: #good\n",
    "            count += 1\n",
    "    if count == k:\n",
    "        if s not in good_set:\n",
    "          fp += 1\n",
    "        else:\n",
    "          tp += 1\n",
    "    else: #bad \n",
    "        if s in good_set:\n",
    "          fn += 1\n",
    "        else:\n",
    "          tn += 1\n",
    "\n",
    "print('False positive rate: %f'%(float(fp)/float(tn+fp)))"
   ]
  },
  {
   "cell_type": "markdown",
   "metadata": {
    "id": "FZHcE7Jve1PR"
   },
   "source": [
    "_You can use this cell to write your discussion of the results_"
   ]
  }
 ],
 "metadata": {
  "colab": {
   "collapsed_sections": [],
   "name": "m2_ds_algods_lab2_filtering_solved.ipynb",
   "provenance": []
  },
  "interpreter": {
   "hash": "b9ad34806fe0aaed47e4f5fdf44b2084d2178e6c31dda8aebed8ee33c81891a7"
  },
  "kernelspec": {
   "display_name": "Python 3 (ipykernel)",
   "language": "python",
   "name": "python3"
  },
  "language_info": {
   "codemirror_mode": {
    "name": "ipython",
    "version": 3
   },
   "file_extension": ".py",
   "mimetype": "text/x-python",
   "name": "python",
   "nbconvert_exporter": "python",
   "pygments_lexer": "ipython3",
   "version": "3.8.13"
  }
 },
 "nbformat": 4,
 "nbformat_minor": 2
}
