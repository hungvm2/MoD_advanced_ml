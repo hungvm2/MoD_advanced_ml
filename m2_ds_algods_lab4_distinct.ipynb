{
 "cells": [
  {
   "cell_type": "markdown",
   "metadata": {
    "id": "OpOHLyhPpaxC"
   },
   "source": [
    "# Algorithms for Data Science"
   ]
  },
  {
   "cell_type": "markdown",
   "metadata": {
    "id": "NvZ7rLY2pg8i"
   },
   "source": [
    "## Counting Distinct Items"
   ]
  },
  {
   "cell_type": "markdown",
   "metadata": {
    "id": "NqIyJ2BgplVA"
   },
   "source": [
    "### 1. Preliminaries \n",
    "\n",
    "The objective of this lab is to implement the Flajolet-Martin approach to count distinct items. First, we generate an universe of $N$ strings of length $12$, and take $d$ items which will constitute our universe of distinct items."
   ]
  },
  {
   "cell_type": "code",
   "execution_count": 1,
   "metadata": {
    "id": "uj1GxrPF_DxQ"
   },
   "outputs": [
    {
     "name": "stdout",
     "output_type": "stream",
     "text": [
      "['piqbyjtznjek', 'uaxeqszogogn', 'thrhbpehbexv', 'djueosejhmuj', 'engrporeueko', 'ksoatdfcpklu', 'yngoatdtsyhe', 'exnzyryfgdpv', 'auxuaxeooarw', 'xdxhzuklobhm', 'yaqrhxagnyfx', 'elehxaytunjl', 'vyfpngmekfmt', 'vdsbltoaqlpl', 'nozgizybfltb', 'oencvfsiigsj', 'nmdlzczklyyw', 'aoisxxfzlyym', 'syokygxbiaps', 'svtzxdevsrim', 'illjopurjkcm', 'lyfpcgmjfrvu', 'nbdyxwagupwz', 'bsdzqpsapdba', 'apsnztibxmqz']\n"
     ]
    }
   ],
   "source": [
    "import random\n",
    "from string import ascii_lowercase\n",
    "\n",
    "#parameters\n",
    "N = 256 #universe of N \n",
    "d = 25 #distinct items\n",
    "stream_size = 10000\n",
    "\n",
    "#generate some random strings of size 10\n",
    "U = []\n",
    "for _ in range(N):\n",
    "  U.append(''.join(random.choice(ascii_lowercase) for i in range(12)))\n",
    "\n",
    "D = random.sample(U,k=d)\n",
    "\n",
    "print(D)"
   ]
  },
  {
   "cell_type": "markdown",
   "metadata": {
    "id": "GgKzrJj3_oiX"
   },
   "source": [
    "### 2. Flajolet-Martin: Creating a Hash Function, Estimating Distinct Items Using Trailing 0s\n",
    "\n",
    "In the following we create a hash function $h(x)$, which also takes as a parameter a hashable and $N$, and returns a value in $0,\\dots,N-1$. We simulate a stream taking random values from $D$, count the trailing $0$s in its hash value, keep the maximum value $R$, and then output $2^R$ as the estimator."
   ]
  },
  {
   "cell_type": "code",
   "execution_count": 2,
   "metadata": {
    "colab": {
     "base_uri": "https://localhost:8080/",
     "height": 34
    },
    "id": "IbQ0B1a3BpAV",
    "outputId": "b5f8e92e-b215-4b12-9691-aa5310c29145"
   },
   "outputs": [
    {
     "name": "stdout",
     "output_type": "stream",
     "text": [
      "Estimation of distinct items: 16\n"
     ]
    }
   ],
   "source": [
    "import math\n",
    "\n",
    "def h(x,n):\n",
    "  return hash(x)%n\n",
    "\n",
    "#method for counting trailing 0s\n",
    "def trailing_0(x):\n",
    "  x1 = x\n",
    "  t0 = 0\n",
    "  while x1%2==0 and x1!=0:\n",
    "    t0 += 1\n",
    "    x1 = int(x1/2)\n",
    "  return t0\n",
    "\n",
    "#simulating the stream\n",
    "R = 0\n",
    "for _ in range(stream_size):\n",
    "  #take a random string from the distinct pool\n",
    "  s = random.choice(D)\n",
    "  #check its hash value\n",
    "  hv = h(s,2*N) #to allow more space for hash values\n",
    "  r = trailing_0(hv)\n",
    "  if r>R: R=r\n",
    "\n",
    "est = int(math.pow(2,R))\n",
    "\n",
    "print('Estimation of distinct items: %d'%est)"
   ]
  },
  {
   "cell_type": "markdown",
   "metadata": {
    "id": "Dz9rNT2Na35t"
   },
   "source": [
    "### 3. **TASK** Flajolet-Martin: Using Multiple Hash Functions\n",
    "\n",
    "Implement the refined version of the above estimator, using multiple ($k$) hash functions (use the method of generating several pairs of numbers presented last time in the lab) and compute:\n",
    "1. The average of the $k$ estimators\n",
    "2. The median of the $k$ estimators\n",
    "3. Divide the estimators into groups (vary the group size); take the median in each group and then the average over the groups.\n",
    "\n",
    "Compare the three methods' final outputs. What do you notice?\n",
    "\n",
    "_Note_: you can use the Python 3.4 _statistics_ package (not available in previous versions) to compute medians, averages, and other statistics."
   ]
  },
  {
   "cell_type": "code",
   "execution_count": 4,
   "metadata": {
    "id": "3Va-_6fda-jf"
   },
   "outputs": [
    {
     "name": "stdout",
     "output_type": "stream",
     "text": [
      "Estimation of distinct items using mean: 256\n",
      "Estimation of distinct items using median: 256\n",
      "Estimation of distinct items using hybrid: 256\n"
     ]
    }
   ],
   "source": [
    "# YOUR CODE HERE\n",
    "import math\n",
    "from statistics import mean, median\n",
    "\n",
    "\n",
    "def h1(x,n):\n",
    "  return (hash(x) + 1)%n\n",
    "\n",
    "def h2(x,n):\n",
    "  return (2 *hash(x) + 1)%n\n",
    "\n",
    "def h3(x,n):\n",
    "  return (hash(x) - 3)%n\n",
    "\n",
    "k = 3\n",
    "p = 1223543677\n",
    "n = 2*N\n",
    "\n",
    "def h(x):\n",
    "  return ((a*hash(x)+b)%p)%n\n",
    "\n",
    "h_list = list()\n",
    "\n",
    "\n",
    "for i in range(k):\n",
    "    a = random.randrange(p)\n",
    "    b = random.randrange(p)\n",
    "    h_list.append(h)\n",
    "\n",
    "#simulating the stream\n",
    "R = [0] * k\n",
    "for _ in range(stream_size):\n",
    "    #take a random string from the distinct pool\n",
    "    s = random.choice(D)\n",
    "    #check its hash value\n",
    "    \n",
    "    for i in range(k):\n",
    "        hv = h_list[i](s)\n",
    "        r = trailing_0(hv)\n",
    "        R[i] = max(R[i], r)\n",
    "\n",
    "est_list = [math.pow(2,r) for r in R]\n",
    "mean_est = int(mean(est_list))\n",
    "median_est = int(median(est_list))\n",
    "\n",
    "half = len(est_list) // 2\n",
    "hybrid_est = median((mean(est_list[:half]), mean(est_list[half:])))\n",
    "\n",
    "print('Estimation of distinct items using mean: %d'%mean_est)\n",
    "print('Estimation of distinct items using median: %d'%median_est)\n",
    "print('Estimation of distinct items using hybrid: %d'%hybrid_est)"
   ]
  },
  {
   "cell_type": "markdown",
   "metadata": {
    "id": "FZHcE7Jve1PR"
   },
   "source": [
    "_You can use this cell to write your discussion of the results_"
   ]
  }
 ],
 "metadata": {
  "colab": {
   "collapsed_sections": [],
   "name": "m2_ds_algods_lab3_distinct.ipynb",
   "provenance": []
  },
  "interpreter": {
   "hash": "aee8b7b246df8f9039afb4144a1f6fd8d2ca17a180786b69acc140d282b71a49"
  },
  "kernelspec": {
   "display_name": "Python 3 (ipykernel)",
   "language": "python",
   "name": "python3"
  },
  "language_info": {
   "codemirror_mode": {
    "name": "ipython",
    "version": 3
   },
   "file_extension": ".py",
   "mimetype": "text/x-python",
   "name": "python",
   "nbconvert_exporter": "python",
   "pygments_lexer": "ipython3",
   "version": "3.8.13"
  }
 },
 "nbformat": 4,
 "nbformat_minor": 2
}
